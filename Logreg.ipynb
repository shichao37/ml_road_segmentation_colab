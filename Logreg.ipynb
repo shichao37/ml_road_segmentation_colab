{
 "cells": [
  {
   "cell_type": "code",
   "execution_count": 37,
   "metadata": {},
   "outputs": [],
   "source": [
    "%matplotlib inline\n",
    "import matplotlib.image as mpimg\n",
    "import numpy as np\n",
    "import matplotlib.pyplot as plt\n",
    "import os,sys\n",
    "from PIL import Image\n",
    "from proj2_helpers import *\n",
    "from sklearn import linear_model\n",
    "from sklearn.preprocessing import PolynomialFeatures"
   ]
  },
  {
   "cell_type": "code",
   "execution_count": 38,
   "metadata": {},
   "outputs": [
    {
     "name": "stdout",
     "output_type": "stream",
     "text": [
      "Loading 100 images\n",
      "satImage_001.png\n",
      "Loading 100 images\n",
      "satImage_001.png\n"
     ]
    }
   ],
   "source": [
    "# Loaded a set of images\n",
    "num_traset = 100 #Trainingset numbers\n",
    "root_dir = \"Datasets/training\"\n",
    "\n",
    "image_dir = root_dir + \"/images/\"\n",
    "files = os.listdir(image_dir)\n",
    "n = min(num_traset,len(files)) \n",
    "print(\"Loading \" + str(n) + \" images\")\n",
    "imgs = [load_image(image_dir + files[i]) for i in range(n)]\n",
    "print(files[0])\n",
    "gt_dir = root_dir + \"/groundtruth/\"\n",
    "print(\"Loading \" + str(n) + \" images\")\n",
    "gt_imgs = [load_image(gt_dir + files[i]) for i in range(n)]\n",
    "print(files[0])"
   ]
  },
  {
   "cell_type": "code",
   "execution_count": 43,
   "metadata": {},
   "outputs": [],
   "source": [
    "# Extract patches from input images\n",
    "patch_size = 16 # each patch is 16*16 pixels\n",
    "\n",
    "img_patches = [img_crop(imgs[i], patch_size, patch_size) for i in range(n)]\n",
    "gt_patches = [img_crop(gt_imgs[i], patch_size, patch_size) for i in range(n)]"
   ]
  },
  {
   "cell_type": "code",
   "execution_count": 50,
   "metadata": {},
   "outputs": [
    {
     "data": {
      "text/plain": [
       "(16, 16, 3)"
      ]
     },
     "execution_count": 50,
     "metadata": {},
     "output_type": "execute_result"
    }
   ],
   "source": [
    "img_patches[1][2].shape"
   ]
  },
  {
   "cell_type": "code",
   "execution_count": 40,
   "metadata": {},
   "outputs": [],
   "source": [
    "# Linearize list of patches\n",
    "img_patches = np.asarray([img_patches[i][j] for i in range(len(img_patches)) for j in range(len(img_patches[i]))])\n",
    "gt_patches =  np.asarray([gt_patches[i][j] for i in range(len(gt_patches)) for j in range(len(gt_patches[i]))])"
   ]
  },
  {
   "cell_type": "code",
   "execution_count": 42,
   "metadata": {},
   "outputs": [
    {
     "data": {
      "text/plain": [
       "(62500, 16, 16, 3)"
      ]
     },
     "execution_count": 42,
     "metadata": {},
     "output_type": "execute_result"
    }
   ],
   "source": [
    "img_patches.shape"
   ]
  },
  {
   "cell_type": "code",
   "execution_count": 22,
   "metadata": {},
   "outputs": [],
   "source": [
    "# Compute features for each image patch\n",
    "X_tra = np.asarray([extract_features(img_patches[i]) for i in range(len(img_patches))])\n",
    "Y_tra = np.asarray([value_to_class(np.mean(gt_patches[i])) for i in range(len(gt_patches))])"
   ]
  },
  {
   "cell_type": "code",
   "execution_count": 23,
   "metadata": {},
   "outputs": [
    {
     "name": "stdout",
     "output_type": "stream",
     "text": [
      "Computed 62500 features\n",
      "Feature dimension = 6\n",
      "Number of classes = 1\n",
      "Class 0: 74.0944 % 46309samples\n",
      "Class 1: 25.9056 % 16191samples\n"
     ]
    }
   ],
   "source": [
    "# Print feature statistics\n",
    "\n",
    "print('Computed ' + str(X_tra.shape[0]) + ' features')\n",
    "print('Feature dimension = ' + str(X_tra.shape[1]))\n",
    "print('Number of classes = ' + str(np.max(Y_tra)))  #TODO: fix, length(unique(Y)) \n",
    "\n",
    "Y0 = [i for i, j in enumerate(Y_tra) if j == 0]\n",
    "Y1 = [i for i, j in enumerate(Y_tra) if j == 1]\n",
    "print('Class 0: ' + str(100*len(Y0)/len(Y_tra)) + ' %',str(len(Y0))+'samples')\n",
    "print('Class 1: ' + str(100*len(Y1)/len(Y_tra)) + ' %',str(len(Y1))+'samples')"
   ]
  },
  {
   "cell_type": "code",
   "execution_count": 24,
   "metadata": {},
   "outputs": [],
   "source": [
    "def poly_fit(X):\n",
    "    \"\"\"\n",
    "    Fit the dataset using a polynomial basis.\n",
    "    \"\"\"\n",
    "    poly = PolynomialFeatures(4, interaction_only=False)\n",
    "    return poly.fit_transform(X)"
   ]
  },
  {
   "cell_type": "code",
   "execution_count": 25,
   "metadata": {},
   "outputs": [
    {
     "name": "stderr",
     "output_type": "stream",
     "text": [
      "C:\\Users\\wangz\\Anaconda3\\lib\\site-packages\\sklearn\\linear_model\\logistic.py:432: FutureWarning: Default solver will be changed to 'lbfgs' in 0.22. Specify a solver to silence this warning.\n",
      "  FutureWarning)\n"
     ]
    },
    {
     "data": {
      "text/plain": [
       "LogisticRegression(C=100000.0, class_weight=None, dual=False,\n",
       "                   fit_intercept=True, intercept_scaling=1, l1_ratio=None,\n",
       "                   max_iter=100, multi_class='warn', n_jobs=None, penalty='l2',\n",
       "                   random_state=None, solver='warn', tol=0.0001, verbose=0,\n",
       "                   warm_start=False)"
      ]
     },
     "execution_count": 25,
     "metadata": {},
     "output_type": "execute_result"
    }
   ],
   "source": [
    "logreg = linear_model.LogisticRegression(C=1e5)\n",
    "X_tra_poly = poly_fit(X_tra)\n",
    "logreg.fit(X_tra_poly, Y_tra)"
   ]
  },
  {
   "cell_type": "code",
   "execution_count": 26,
   "metadata": {},
   "outputs": [
    {
     "data": {
      "text/plain": [
       "(62500, 210)"
      ]
     },
     "execution_count": 26,
     "metadata": {},
     "output_type": "execute_result"
    }
   ],
   "source": [
    "X_tra_poly.shape"
   ]
  },
  {
   "cell_type": "code",
   "execution_count": 27,
   "metadata": {},
   "outputs": [],
   "source": [
    "def get_prediction_logreg(img,patch_size):\n",
    "    IMG_PATCH_SIZE = patch_size\n",
    "    data = np.asarray(img_crop(img, IMG_PATCH_SIZE, IMG_PATCH_SIZE))\n",
    "    X = np.asarray([extract_features(data[i]) for i in range(len(data))])\n",
    "    X_poly = poly_fit(X)\n",
    "    output_prediction = logreg.predict(X_poly)\n",
    "    img_prediction = label_to_img(img.shape[0], img.shape[1], IMG_PATCH_SIZE, IMG_PATCH_SIZE, output_prediction)\n",
    "\n",
    "    return img_prediction"
   ]
  },
  {
   "cell_type": "code",
   "execution_count": 28,
   "metadata": {},
   "outputs": [
    {
     "name": "stdout",
     "output_type": "stream",
     "text": [
      "Running prediction on test set\n"
     ]
    },
    {
     "name": "stderr",
     "output_type": "stream",
     "text": [
      "C:\\Course\\2019Fall\\ML\\ML_project2\\Project_Self\\proj2_helpers.py:16: RuntimeWarning: invalid value encountered in true_divide\n",
      "  rimg = (rimg / np.max(rimg) * 255).round().astype(np.uint8)\n",
      "C:\\Course\\2019Fall\\ML\\ML_project2\\Project_Self\\proj2_helpers.py:16: RuntimeWarning: invalid value encountered in true_divide\n",
      "  rimg = (rimg / np.max(rimg) * 255).round().astype(np.uint8)\n",
      "C:\\Course\\2019Fall\\ML\\ML_project2\\Project_Self\\proj2_helpers.py:16: RuntimeWarning: invalid value encountered in true_divide\n",
      "  rimg = (rimg / np.max(rimg) * 255).round().astype(np.uint8)\n",
      "C:\\Course\\2019Fall\\ML\\ML_project2\\Project_Self\\proj2_helpers.py:16: RuntimeWarning: invalid value encountered in true_divide\n",
      "  rimg = (rimg / np.max(rimg) * 255).round().astype(np.uint8)\n",
      "C:\\Course\\2019Fall\\ML\\ML_project2\\Project_Self\\proj2_helpers.py:16: RuntimeWarning: invalid value encountered in true_divide\n",
      "  rimg = (rimg / np.max(rimg) * 255).round().astype(np.uint8)\n",
      "C:\\Course\\2019Fall\\ML\\ML_project2\\Project_Self\\proj2_helpers.py:16: RuntimeWarning: invalid value encountered in true_divide\n",
      "  rimg = (rimg / np.max(rimg) * 255).round().astype(np.uint8)\n",
      "C:\\Course\\2019Fall\\ML\\ML_project2\\Project_Self\\proj2_helpers.py:16: RuntimeWarning: invalid value encountered in true_divide\n",
      "  rimg = (rimg / np.max(rimg) * 255).round().astype(np.uint8)\n",
      "C:\\Course\\2019Fall\\ML\\ML_project2\\Project_Self\\proj2_helpers.py:16: RuntimeWarning: invalid value encountered in true_divide\n",
      "  rimg = (rimg / np.max(rimg) * 255).round().astype(np.uint8)\n",
      "C:\\Course\\2019Fall\\ML\\ML_project2\\Project_Self\\proj2_helpers.py:16: RuntimeWarning: invalid value encountered in true_divide\n",
      "  rimg = (rimg / np.max(rimg) * 255).round().astype(np.uint8)\n",
      "C:\\Course\\2019Fall\\ML\\ML_project2\\Project_Self\\proj2_helpers.py:16: RuntimeWarning: invalid value encountered in true_divide\n",
      "  rimg = (rimg / np.max(rimg) * 255).round().astype(np.uint8)\n",
      "C:\\Course\\2019Fall\\ML\\ML_project2\\Project_Self\\proj2_helpers.py:16: RuntimeWarning: invalid value encountered in true_divide\n",
      "  rimg = (rimg / np.max(rimg) * 255).round().astype(np.uint8)\n",
      "C:\\Course\\2019Fall\\ML\\ML_project2\\Project_Self\\proj2_helpers.py:16: RuntimeWarning: invalid value encountered in true_divide\n",
      "  rimg = (rimg / np.max(rimg) * 255).round().astype(np.uint8)\n",
      "C:\\Course\\2019Fall\\ML\\ML_project2\\Project_Self\\proj2_helpers.py:16: RuntimeWarning: invalid value encountered in true_divide\n",
      "  rimg = (rimg / np.max(rimg) * 255).round().astype(np.uint8)\n",
      "C:\\Course\\2019Fall\\ML\\ML_project2\\Project_Self\\proj2_helpers.py:16: RuntimeWarning: invalid value encountered in true_divide\n",
      "  rimg = (rimg / np.max(rimg) * 255).round().astype(np.uint8)\n",
      "C:\\Course\\2019Fall\\ML\\ML_project2\\Project_Self\\proj2_helpers.py:16: RuntimeWarning: invalid value encountered in true_divide\n",
      "  rimg = (rimg / np.max(rimg) * 255).round().astype(np.uint8)\n",
      "C:\\Course\\2019Fall\\ML\\ML_project2\\Project_Self\\proj2_helpers.py:16: RuntimeWarning: invalid value encountered in true_divide\n",
      "  rimg = (rimg / np.max(rimg) * 255).round().astype(np.uint8)\n",
      "C:\\Course\\2019Fall\\ML\\ML_project2\\Project_Self\\proj2_helpers.py:16: RuntimeWarning: invalid value encountered in true_divide\n",
      "  rimg = (rimg / np.max(rimg) * 255).round().astype(np.uint8)\n",
      "C:\\Course\\2019Fall\\ML\\ML_project2\\Project_Self\\proj2_helpers.py:16: RuntimeWarning: invalid value encountered in true_divide\n",
      "  rimg = (rimg / np.max(rimg) * 255).round().astype(np.uint8)\n",
      "C:\\Course\\2019Fall\\ML\\ML_project2\\Project_Self\\proj2_helpers.py:16: RuntimeWarning: invalid value encountered in true_divide\n",
      "  rimg = (rimg / np.max(rimg) * 255).round().astype(np.uint8)\n",
      "C:\\Course\\2019Fall\\ML\\ML_project2\\Project_Self\\proj2_helpers.py:16: RuntimeWarning: invalid value encountered in true_divide\n",
      "  rimg = (rimg / np.max(rimg) * 255).round().astype(np.uint8)\n",
      "C:\\Course\\2019Fall\\ML\\ML_project2\\Project_Self\\proj2_helpers.py:16: RuntimeWarning: invalid value encountered in true_divide\n",
      "  rimg = (rimg / np.max(rimg) * 255).round().astype(np.uint8)\n",
      "C:\\Course\\2019Fall\\ML\\ML_project2\\Project_Self\\proj2_helpers.py:16: RuntimeWarning: invalid value encountered in true_divide\n",
      "  rimg = (rimg / np.max(rimg) * 255).round().astype(np.uint8)\n",
      "C:\\Course\\2019Fall\\ML\\ML_project2\\Project_Self\\proj2_helpers.py:16: RuntimeWarning: invalid value encountered in true_divide\n",
      "  rimg = (rimg / np.max(rimg) * 255).round().astype(np.uint8)\n",
      "C:\\Course\\2019Fall\\ML\\ML_project2\\Project_Self\\proj2_helpers.py:16: RuntimeWarning: invalid value encountered in true_divide\n",
      "  rimg = (rimg / np.max(rimg) * 255).round().astype(np.uint8)\n",
      "C:\\Course\\2019Fall\\ML\\ML_project2\\Project_Self\\proj2_helpers.py:16: RuntimeWarning: invalid value encountered in true_divide\n",
      "  rimg = (rimg / np.max(rimg) * 255).round().astype(np.uint8)\n",
      "C:\\Course\\2019Fall\\ML\\ML_project2\\Project_Self\\proj2_helpers.py:16: RuntimeWarning: invalid value encountered in true_divide\n",
      "  rimg = (rimg / np.max(rimg) * 255).round().astype(np.uint8)\n",
      "C:\\Course\\2019Fall\\ML\\ML_project2\\Project_Self\\proj2_helpers.py:16: RuntimeWarning: invalid value encountered in true_divide\n",
      "  rimg = (rimg / np.max(rimg) * 255).round().astype(np.uint8)\n",
      "C:\\Course\\2019Fall\\ML\\ML_project2\\Project_Self\\proj2_helpers.py:16: RuntimeWarning: invalid value encountered in true_divide\n",
      "  rimg = (rimg / np.max(rimg) * 255).round().astype(np.uint8)\n",
      "C:\\Course\\2019Fall\\ML\\ML_project2\\Project_Self\\proj2_helpers.py:16: RuntimeWarning: invalid value encountered in true_divide\n",
      "  rimg = (rimg / np.max(rimg) * 255).round().astype(np.uint8)\n",
      "C:\\Course\\2019Fall\\ML\\ML_project2\\Project_Self\\proj2_helpers.py:16: RuntimeWarning: invalid value encountered in true_divide\n",
      "  rimg = (rimg / np.max(rimg) * 255).round().astype(np.uint8)\n",
      "C:\\Course\\2019Fall\\ML\\ML_project2\\Project_Self\\proj2_helpers.py:16: RuntimeWarning: invalid value encountered in true_divide\n",
      "  rimg = (rimg / np.max(rimg) * 255).round().astype(np.uint8)\n",
      "C:\\Course\\2019Fall\\ML\\ML_project2\\Project_Self\\proj2_helpers.py:16: RuntimeWarning: invalid value encountered in true_divide\n",
      "  rimg = (rimg / np.max(rimg) * 255).round().astype(np.uint8)\n",
      "C:\\Course\\2019Fall\\ML\\ML_project2\\Project_Self\\proj2_helpers.py:16: RuntimeWarning: invalid value encountered in true_divide\n",
      "  rimg = (rimg / np.max(rimg) * 255).round().astype(np.uint8)\n",
      "C:\\Course\\2019Fall\\ML\\ML_project2\\Project_Self\\proj2_helpers.py:16: RuntimeWarning: invalid value encountered in true_divide\n",
      "  rimg = (rimg / np.max(rimg) * 255).round().astype(np.uint8)\n",
      "C:\\Course\\2019Fall\\ML\\ML_project2\\Project_Self\\proj2_helpers.py:16: RuntimeWarning: invalid value encountered in true_divide\n",
      "  rimg = (rimg / np.max(rimg) * 255).round().astype(np.uint8)\n",
      "C:\\Course\\2019Fall\\ML\\ML_project2\\Project_Self\\proj2_helpers.py:16: RuntimeWarning: invalid value encountered in true_divide\n",
      "  rimg = (rimg / np.max(rimg) * 255).round().astype(np.uint8)\n",
      "C:\\Course\\2019Fall\\ML\\ML_project2\\Project_Self\\proj2_helpers.py:16: RuntimeWarning: invalid value encountered in true_divide\n",
      "  rimg = (rimg / np.max(rimg) * 255).round().astype(np.uint8)\n",
      "C:\\Course\\2019Fall\\ML\\ML_project2\\Project_Self\\proj2_helpers.py:16: RuntimeWarning: invalid value encountered in true_divide\n",
      "  rimg = (rimg / np.max(rimg) * 255).round().astype(np.uint8)\n",
      "C:\\Course\\2019Fall\\ML\\ML_project2\\Project_Self\\proj2_helpers.py:16: RuntimeWarning: invalid value encountered in true_divide\n",
      "  rimg = (rimg / np.max(rimg) * 255).round().astype(np.uint8)\n",
      "C:\\Course\\2019Fall\\ML\\ML_project2\\Project_Self\\proj2_helpers.py:16: RuntimeWarning: invalid value encountered in true_divide\n",
      "  rimg = (rimg / np.max(rimg) * 255).round().astype(np.uint8)\n",
      "C:\\Course\\2019Fall\\ML\\ML_project2\\Project_Self\\proj2_helpers.py:16: RuntimeWarning: invalid value encountered in true_divide\n",
      "  rimg = (rimg / np.max(rimg) * 255).round().astype(np.uint8)\n",
      "C:\\Course\\2019Fall\\ML\\ML_project2\\Project_Self\\proj2_helpers.py:16: RuntimeWarning: invalid value encountered in true_divide\n",
      "  rimg = (rimg / np.max(rimg) * 255).round().astype(np.uint8)\n",
      "C:\\Course\\2019Fall\\ML\\ML_project2\\Project_Self\\proj2_helpers.py:16: RuntimeWarning: invalid value encountered in true_divide\n",
      "  rimg = (rimg / np.max(rimg) * 255).round().astype(np.uint8)\n",
      "C:\\Course\\2019Fall\\ML\\ML_project2\\Project_Self\\proj2_helpers.py:16: RuntimeWarning: invalid value encountered in true_divide\n",
      "  rimg = (rimg / np.max(rimg) * 255).round().astype(np.uint8)\n",
      "C:\\Course\\2019Fall\\ML\\ML_project2\\Project_Self\\proj2_helpers.py:16: RuntimeWarning: invalid value encountered in true_divide\n",
      "  rimg = (rimg / np.max(rimg) * 255).round().astype(np.uint8)\n",
      "C:\\Course\\2019Fall\\ML\\ML_project2\\Project_Self\\proj2_helpers.py:16: RuntimeWarning: invalid value encountered in true_divide\n",
      "  rimg = (rimg / np.max(rimg) * 255).round().astype(np.uint8)\n",
      "C:\\Course\\2019Fall\\ML\\ML_project2\\Project_Self\\proj2_helpers.py:16: RuntimeWarning: invalid value encountered in true_divide\n",
      "  rimg = (rimg / np.max(rimg) * 255).round().astype(np.uint8)\n",
      "C:\\Course\\2019Fall\\ML\\ML_project2\\Project_Self\\proj2_helpers.py:16: RuntimeWarning: invalid value encountered in true_divide\n",
      "  rimg = (rimg / np.max(rimg) * 255).round().astype(np.uint8)\n",
      "C:\\Course\\2019Fall\\ML\\ML_project2\\Project_Self\\proj2_helpers.py:16: RuntimeWarning: invalid value encountered in true_divide\n",
      "  rimg = (rimg / np.max(rimg) * 255).round().astype(np.uint8)\n",
      "C:\\Course\\2019Fall\\ML\\ML_project2\\Project_Self\\proj2_helpers.py:16: RuntimeWarning: invalid value encountered in true_divide\n",
      "  rimg = (rimg / np.max(rimg) * 255).round().astype(np.uint8)\n"
     ]
    }
   ],
   "source": [
    "# Get prediction\n",
    "TEST_SIZE = 50\n",
    "test_data_filename = 'Datasets/test_set_images/'\n",
    "print(\"Running prediction on test set\")\n",
    "prediction_test_dir = \"predictions_test_2/\"\n",
    "if not os.path.isdir(prediction_test_dir):\n",
    "    os.mkdir(prediction_test_dir)\n",
    "for i in range(1, TEST_SIZE + 1):\n",
    "    test = \"test_%d\" % i\n",
    "    image_filename = test_data_filename + test + '/' + test +  \".png\"\n",
    "    img = mpimg.imread(image_filename)\n",
    "    pimg = get_prediction_logreg(img,patch_size)\n",
    "    pimg8 = img_float_to_uint8(pimg)\n",
    "    pimg8_L = Image.fromarray(pimg8, 'L')\n",
    "    pimg8_L.save(prediction_test_dir + \"prediction_\" + str(i) + \".png\")"
   ]
  },
  {
   "cell_type": "code",
   "execution_count": 29,
   "metadata": {},
   "outputs": [],
   "source": [
    "pimg = get_prediction_logreg(img,patch_size)"
   ]
  },
  {
   "cell_type": "code",
   "execution_count": 30,
   "metadata": {},
   "outputs": [
    {
     "data": {
      "text/plain": [
       "array([[0., 0., 0., ..., 0., 0., 0.],\n",
       "       [0., 0., 0., ..., 0., 0., 0.],\n",
       "       [0., 0., 0., ..., 0., 0., 0.],\n",
       "       ...,\n",
       "       [0., 0., 0., ..., 0., 0., 0.],\n",
       "       [0., 0., 0., ..., 0., 0., 0.],\n",
       "       [0., 0., 0., ..., 0., 0., 0.]])"
      ]
     },
     "execution_count": 30,
     "metadata": {},
     "output_type": "execute_result"
    }
   ],
   "source": [
    "pimg"
   ]
  },
  {
   "cell_type": "code",
   "execution_count": 31,
   "metadata": {},
   "outputs": [
    {
     "name": "stderr",
     "output_type": "stream",
     "text": [
      "C:\\Course\\2019Fall\\ML\\ML_project2\\Project_Self\\proj2_helpers.py:16: RuntimeWarning: invalid value encountered in true_divide\n",
      "  rimg = (rimg / np.max(rimg) * 255).round().astype(np.uint8)\n"
     ]
    }
   ],
   "source": [
    "pimg8 = img_float_to_uint8(pimg)\n",
    "pimg8_L = Image.fromarray(pimg8, 'L')"
   ]
  },
  {
   "cell_type": "code",
   "execution_count": 32,
   "metadata": {},
   "outputs": [
    {
     "data": {
      "image/png": "[encoded data removed]",
      "text/plain": [
       "<PIL.Image.Image image mode=L size=608x608 at 0x1FD3BFB5748>"
      ]
     },
     "execution_count": 32,
     "metadata": {},
     "output_type": "execute_result"
    }
   ],
   "source": [
    "pimg8_L"
   ]
  },
  {
   "cell_type": "code",
   "execution_count": null,
   "metadata": {},
   "outputs": [],
   "source": [
    "w = gt_imgs[img_idx].shape[0]\n",
    "h = gt_imgs[img_idx].shape[1]\n",
    "predicted_im = label_to_img(w, h, patch_size, patch_size, Zi)"
   ]
  },
  {
   "cell_type": "code",
   "execution_count": null,
   "metadata": {},
   "outputs": [],
   "source": [
    "608"
   ]
  }
 ],
 "metadata": {
  "kernelspec": {
   "display_name": "Python 3",
   "language": "python",
   "name": "python3"
  },
  "language_info": {
   "codemirror_mode": {
    "name": "ipython",
    "version": 3
   },
   "file_extension": ".py",
   "mimetype": "text/x-python",
   "name": "python",
   "nbconvert_exporter": "python",
   "pygments_lexer": "ipython3",
   "version": "3.7.5"
  }
 },
 "nbformat": 4,
 "nbformat_minor": 4
}
