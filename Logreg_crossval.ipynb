{
 "cells": [
  {
   "cell_type": "code",
   "execution_count": 1,
   "metadata": {},
   "outputs": [],
   "source": [
    "%matplotlib inline\n",
    "import matplotlib.image as mpimg\n",
    "import numpy as np\n",
    "import matplotlib.pyplot as plt\n",
    "import os,sys\n",
    "from PIL import Image\n",
    "from proj2_helpers import *\n",
    "from sklearn import linear_model\n",
    "from sklearn.preprocessing import PolynomialFeatures\n",
    "from helpers_logreg import*"
   ]
  },
  {
   "cell_type": "code",
   "execution_count": 2,
   "metadata": {},
   "outputs": [],
   "source": [
    "def build_k_indices(y, k_fold, seed):\n",
    "    \"\"\"\n",
    "    Build k indices for k-fold cross-validation.\n",
    "    \"\"\"\n",
    "    num_row = y.shape[0]\n",
    "    interval = int(num_row / k_fold)\n",
    "    np.random.seed(seed)\n",
    "    indices = np.random.permutation(num_row)\n",
    "    k_indices = [indices[k * interval: (k + 1) * interval]\n",
    "                 for k in range(k_fold)]\n",
    "    return np.array(k_indices)\n",
    "\n",
    "def get_classification_results(y, y_test):\n",
    "    \"\"\"\n",
    "    Get the ratio of correct answers.\n",
    "    \"\"\"\n",
    "    y = y.reshape(-1) # Linearize\n",
    "    y_test = y_test.reshape(-1) # Linearize\n",
    "    diff = y - y_test\n",
    "    correct = np.sum(diff == 0)\n",
    "    return correct / y_test.size\n",
    "def k_fold_cross_validation(Y, X, k_fold, seed):\n",
    "    \"\"\"\n",
    "    Run a full k-fold cross-validation and print mean accuracy and standard deviation.\n",
    "    \"\"\"\n",
    "    np.random.seed(seed)\n",
    "    k_indices = build_k_indices(Y, k_fold, seed)\n",
    "    results = np.zeros(k_fold)\n",
    "    for k in range(k_fold):\n",
    "        results[k] = cross_validation_iteration_logreg(Y, X, k_indices, k)\n",
    "        print('Accuracy: ' + str(results[k]))\n",
    "    print(results)\n",
    "    print('Cross validation accuracy: ' + str(np.mean(results)) + ', std=' + str(np.std(results)))\n",
    "    \n",
    "def fast_cross_validation( Y, X, k_fold, seed):\n",
    "    \"\"\"\n",
    "    Execute cross-validation with a static validation set,\n",
    "    i.e. a single run of k-fold cross-validation.\n",
    "    \"\"\"\n",
    "    np.random.seed(seed)\n",
    "    k_indices = build_k_indices(Y, k_fold, seed)\n",
    "    result = cross_validation_iteration(model, Y, X, k_indices, 0)\n",
    "    print('Cross validation accuracy: ' + str(result))\n",
    "    \n",
    "def cross_validation_iteration_logreg(Y, X, k_indices, k):\n",
    "    \"\"\"\n",
    "    Execute a single run of cross-validation.\n",
    "    Returns the ratio of correct answers on the validation set.\n",
    "    \"\"\"\n",
    "    non_k_indices = k_indices[np.arange(k_indices.shape[0]) != k].ravel()\n",
    "    tx_tr = X[non_k_indices]\n",
    "    y_tr = Y[non_k_indices]\n",
    "    tx_te = X[k_indices[k]]\n",
    "    y_te = Y[k_indices[k]]\n",
    "    \n",
    "    # Train the model\n",
    "    logreg = linear_model.LogisticRegression(C=1e5)\n",
    "    logreg.fit(tx_tr, y_tr)\n",
    "    \n",
    "    \n",
    "    # Run classification\n",
    "    Z = logreg.predict(tx_te)\n",
    "    \n",
    "    # Calculate accuracy\n",
    "    y_real = y_te\n",
    "    return get_classification_results(y_real, Z)    "
   ]
  },
  {
   "cell_type": "code",
   "execution_count": 3,
   "metadata": {},
   "outputs": [
    {
     "name": "stdout",
     "output_type": "stream",
     "text": [
      "Loading 100 images\n",
      "satImage_001.png\n"
     ]
    }
   ],
   "source": [
    "# Loaded a set of images\n",
    "root_dir = \"Datasets/training\"\n",
    "\n",
    "image_dir = root_dir + \"/images/\"\n",
    "files = os.listdir(image_dir)\n",
    "n = min(100,len(files)) # Load maximum 20 images\n",
    "print(\"Loading \" + str(n) + \" images\")\n",
    "imgs = [load_image(image_dir + files[i]) for i in range(n)]\n",
    "print(files[0])"
   ]
  },
  {
   "cell_type": "code",
   "execution_count": 4,
   "metadata": {},
   "outputs": [
    {
     "name": "stdout",
     "output_type": "stream",
     "text": [
      "Loading 100 images\n",
      "satImage_001.png\n"
     ]
    }
   ],
   "source": [
    "gt_dir = root_dir + \"/groundtruth/\"\n",
    "print(\"Loading \" + str(n) + \" images\")\n",
    "gt_imgs = [load_image(gt_dir + files[i]) for i in range(n)]\n",
    "print(files[0])"
   ]
  },
  {
   "cell_type": "code",
   "execution_count": 5,
   "metadata": {},
   "outputs": [],
   "source": [
    "# Extract patches from input images\n",
    "patch_size = 16 # each patch is 16*16 pixels\n",
    "\n",
    "img_patches = [img_crop(imgs[i], patch_size, patch_size) for i in range(n)]\n",
    "gt_patches = [img_crop(gt_imgs[i], patch_size, patch_size) for i in range(n)]"
   ]
  },
  {
   "cell_type": "code",
   "execution_count": 6,
   "metadata": {},
   "outputs": [],
   "source": [
    "# Linearize list of patches\n",
    "img_patches = np.asarray([img_patches[i][j] for i in range(len(img_patches)) for j in range(len(img_patches[i]))])\n",
    "gt_patches =  np.asarray([gt_patches[i][j] for i in range(len(gt_patches)) for j in range(len(gt_patches[i]))])"
   ]
  },
  {
   "cell_type": "code",
   "execution_count": 7,
   "metadata": {},
   "outputs": [],
   "source": [
    "# Compute features for each image patch\n",
    "X_tra = np.asarray([extract_features(img_patches[i]) for i in range(len(img_patches))])\n",
    "Y_tra = np.asarray([value_to_class(np.mean(gt_patches[i])) for i in range(len(gt_patches))])"
   ]
  },
  {
   "cell_type": "code",
   "execution_count": 8,
   "metadata": {},
   "outputs": [],
   "source": [
    "X_tra_poly = poly_fit(X_tra)"
   ]
  },
  {
   "cell_type": "code",
   "execution_count": 9,
   "metadata": {},
   "outputs": [
    {
     "name": "stderr",
     "output_type": "stream",
     "text": [
      "C:\\Users\\wangz\\Anaconda3\\lib\\site-packages\\sklearn\\linear_model\\logistic.py:432: FutureWarning: Default solver will be changed to 'lbfgs' in 0.22. Specify a solver to silence this warning.\n",
      "  FutureWarning)\n"
     ]
    },
    {
     "name": "stdout",
     "output_type": "stream",
     "text": [
      "Accuracy: 0.79328\n"
     ]
    },
    {
     "name": "stderr",
     "output_type": "stream",
     "text": [
      "C:\\Users\\wangz\\Anaconda3\\lib\\site-packages\\sklearn\\linear_model\\logistic.py:432: FutureWarning: Default solver will be changed to 'lbfgs' in 0.22. Specify a solver to silence this warning.\n",
      "  FutureWarning)\n"
     ]
    },
    {
     "name": "stdout",
     "output_type": "stream",
     "text": [
      "Accuracy: 0.7924\n"
     ]
    },
    {
     "name": "stderr",
     "output_type": "stream",
     "text": [
      "C:\\Users\\wangz\\Anaconda3\\lib\\site-packages\\sklearn\\linear_model\\logistic.py:432: FutureWarning: Default solver will be changed to 'lbfgs' in 0.22. Specify a solver to silence this warning.\n",
      "  FutureWarning)\n"
     ]
    },
    {
     "name": "stdout",
     "output_type": "stream",
     "text": [
      "Accuracy: 0.77888\n"
     ]
    },
    {
     "name": "stderr",
     "output_type": "stream",
     "text": [
      "C:\\Users\\wangz\\Anaconda3\\lib\\site-packages\\sklearn\\linear_model\\logistic.py:432: FutureWarning: Default solver will be changed to 'lbfgs' in 0.22. Specify a solver to silence this warning.\n",
      "  FutureWarning)\n"
     ]
    },
    {
     "name": "stdout",
     "output_type": "stream",
     "text": [
      "Accuracy: 0.7824\n"
     ]
    },
    {
     "name": "stderr",
     "output_type": "stream",
     "text": [
      "C:\\Users\\wangz\\Anaconda3\\lib\\site-packages\\sklearn\\linear_model\\logistic.py:432: FutureWarning: Default solver will be changed to 'lbfgs' in 0.22. Specify a solver to silence this warning.\n",
      "  FutureWarning)\n"
     ]
    },
    {
     "name": "stdout",
     "output_type": "stream",
     "text": [
      "Accuracy: 0.78936\n",
      "[0.79328 0.7924  0.77888 0.7824  0.78936]\n",
      "Cross validation accuracy: 0.787264, std=0.005672987220151292\n"
     ]
    }
   ],
   "source": [
    "k_fold = 5\n",
    "seed = 1000\n",
    "k_fold_cross_validation(Y_tra, X_tra_poly, k_fold, seed)"
   ]
  },
  {
   "cell_type": "code",
   "execution_count": 9,
   "metadata": {},
   "outputs": [
    {
     "name": "stderr",
     "output_type": "stream",
     "text": [
      "C:\\Users\\wangz\\Anaconda3\\lib\\site-packages\\sklearn\\linear_model\\logistic.py:432: FutureWarning: Default solver will be changed to 'lbfgs' in 0.22. Specify a solver to silence this warning.\n",
      "  FutureWarning)\n"
     ]
    },
    {
     "data": {
      "text/plain": [
       "LogisticRegression(C=100000.0, class_weight=None, dual=False,\n",
       "                   fit_intercept=True, intercept_scaling=1, l1_ratio=None,\n",
       "                   max_iter=100, multi_class='warn', n_jobs=None, penalty='l2',\n",
       "                   random_state=None, solver='warn', tol=0.0001, verbose=0,\n",
       "                   warm_start=False)"
      ]
     },
     "execution_count": 9,
     "metadata": {},
     "output_type": "execute_result"
    }
   ],
   "source": [
    "logreg = linear_model.LogisticRegression(C=1e5)\n",
    "logreg.fit(X_tra_poly, Y_tra)"
   ]
  },
  {
   "cell_type": "code",
   "execution_count": 13,
   "metadata": {},
   "outputs": [
    {
     "name": "stdout",
     "output_type": "stream",
     "text": [
      "Running prediction on test set\n"
     ]
    }
   ],
   "source": [
    "# Get prediction\n",
    "TEST_SIZE = 50\n",
    "test_data_filename = 'Datasets/test_set_images/'\n",
    "print(\"Running prediction on test set\")\n",
    "prediction_test_dir = \"predictions_test/\"\n",
    "if not os.path.isdir(prediction_test_dir):\n",
    "    os.mkdir(prediction_test_dir)\n",
    "for i in range(1, TEST_SIZE + 1):\n",
    "    test = \"test_%d\" % i\n",
    "    image_filename = test_data_filename + test + '/' + test +  \".png\"\n",
    "    img = mpimg.imread(image_filename)\n",
    "    pimg = get_prediction_logreg(logreg, img, patch_size)\n",
    "    pimg8 = img_float_to_uint8(pimg)\n",
    "    pimg8_L = Image.fromarray(pimg8, 'L')\n",
    "    pimg8_L.save(prediction_test_dir + \"prediction_\" + str(i) + \".png\")"
   ]
  },
  {
   "cell_type": "code",
   "execution_count": null,
   "metadata": {},
   "outputs": [],
   "source": []
  }
 ],
 "metadata": {
  "kernelspec": {
   "display_name": "Python 3",
   "language": "python",
   "name": "python3"
  },
  "language_info": {
   "codemirror_mode": {
    "name": "ipython",
    "version": 3
   },
   "file_extension": ".py",
   "mimetype": "text/x-python",
   "name": "python",
   "nbconvert_exporter": "python",
   "pygments_lexer": "ipython3",
   "version": "3.7.5"
  }
 },
 "nbformat": 4,
 "nbformat_minor": 4
}
